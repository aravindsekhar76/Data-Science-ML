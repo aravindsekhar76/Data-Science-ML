{
 "cells": [
  {
   "cell_type": "code",
   "execution_count": 2,
   "metadata": {},
   "outputs": [],
   "source": [
    "import numpy as np"
   ]
  },
  {
   "cell_type": "code",
   "execution_count": 2,
   "metadata": {},
   "outputs": [],
   "source": [
    "a1 = np.array([[1,2,3],[1,1,1],[2,1,3]])\n",
    "a2 = np.array([[2,2,2],[1,3,1],[1,2,3]])"
   ]
  },
  {
   "cell_type": "code",
   "execution_count": 3,
   "metadata": {},
   "outputs": [
    {
     "name": "stdout",
     "output_type": "stream",
     "text": [
      "Dot Product\n",
      "[[ 7 14 13]\n",
      " [ 4  7  6]\n",
      " [ 8 13 14]]\n"
     ]
    }
   ],
   "source": [
    "print(f\"Dot Product\\n{np.dot(a1,a2)}\")"
   ]
  },
  {
   "cell_type": "code",
   "execution_count": 6,
   "metadata": {},
   "outputs": [
    {
     "name": "stdout",
     "output_type": "stream",
     "text": [
      "Transpose of A1\n",
      "[[1 1 2]\n",
      " [2 1 1]\n",
      " [3 1 3]]\n",
      "Transpose of A2\n",
      "[[2 1 1]\n",
      " [2 3 2]\n",
      " [2 1 3]]\n"
     ]
    }
   ],
   "source": [
    "print(f\"Transpose of A1\\n{np.transpose(a1)}\")\n",
    "print(f\"Transpose of A2\\n{np.transpose(a2)}\")"
   ]
  },
  {
   "cell_type": "code",
   "execution_count": 8,
   "metadata": {},
   "outputs": [
    {
     "name": "stdout",
     "output_type": "stream",
     "text": [
      "Trace of A1\n",
      "5\n",
      "Trace of A2\n",
      "8\n"
     ]
    }
   ],
   "source": [
    "#Trace -- Sum of diagonal elements\n",
    "print(f\"Trace of A1\\n{np.trace(a1)}\")\n",
    "print(f\"Trace of A2\\n{np.trace(a2)}\")"
   ]
  },
  {
   "cell_type": "code",
   "execution_count": 9,
   "metadata": {},
   "outputs": [
    {
     "name": "stdout",
     "output_type": "stream",
     "text": [
      "Rank of A1\n",
      "3\n",
      "Rank of A2\n",
      "3\n"
     ]
    }
   ],
   "source": [
    "print(f\"Rank of A1\\n{np.linalg.matrix_rank(a1)}\")\n",
    "print(f\"Rank of A2\\n{np.linalg.matrix_rank(a2)}\")"
   ]
  },
  {
   "cell_type": "code",
   "execution_count": 3,
   "metadata": {},
   "outputs": [],
   "source": [
    "print(f\"Det of A1\\n{np.linalg.det(a1)}\")\n",
    "print(f\"Det of A2\\n{np.linalg.det(a2)}\")\n",
    "print(f\"Inverse of A1\\n{np.linalg.inv(a1)}\")\n",
    "print(f\"Inverse of A2\\n{np.linalg.inv(a2)}\")\n",
    "print(f\"Eigen Values and Vector of A1\\n{np.linalg.eig(a1)}\")\n",
    "print(f\"Eigen Values and Vector of A2\\n{np.linalg.eig(a2)}\")"
   ]
  },
  {
   "cell_type": "code",
   "execution_count": null,
   "metadata": {},
   "outputs": [],
   "source": []
  }
 ],
 "metadata": {
  "kernelspec": {
   "display_name": "Python 3",
   "language": "python",
   "name": "python3"
  },
  "language_info": {
   "codemirror_mode": {
    "name": "ipython",
    "version": 3
   },
   "file_extension": ".py",
   "mimetype": "text/x-python",
   "name": "python",
   "nbconvert_exporter": "python",
   "pygments_lexer": "ipython3",
   "version": "3.7.9"
  }
 },
 "nbformat": 4,
 "nbformat_minor": 2
}
