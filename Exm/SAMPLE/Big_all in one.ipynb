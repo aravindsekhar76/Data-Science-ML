{
 "cells": [
  {
   "cell_type": "code",
   "execution_count": 5,
   "metadata": {},
   "outputs": [],
   "source": [
    "import numpy as np\n",
    "import pandas as pd\n",
    "import matplotlib.pyplot as plt\n",
    "from sklearn.datasets import load_iris\n",
    "from sklearn.datasets import load_diabetes\n",
    "from sklearn.tree import DecisionTreeClassifier,plot_tree\n",
    "from sklearn.naive_bayes import GaussianNB\n",
    "from sklearn.neighbors import KNeighborsClassifier\n",
    "from sklearn.cluster import KMeans\n",
    "from sklearn.model_selection import train_test_split\n",
    "from sklearn.metrics import accuracy_score\n"
   ]
  },
  {
   "cell_type": "code",
   "execution_count": 14,
   "metadata": {},
   "outputs": [],
   "source": [
    "#decision tree\n",
    "\n",
    "np.random.seed(10)\n",
    "data={\n",
    "    \"color\":np.random.choice([\"red\",\"green\",\"blue\"],size=30),\n",
    "    \"brand\":np.random.choice([\"benz\",\"ferrari\",\"audi\",\"bmw\",\"porsche\"],size=30),\n",
    "    \"year\":np.random.choice([2017,2018,2019,2020],size=30),\n",
    "    \"seats\":np.random.choice([5,8],size=30),\n",
    "    \"kilometers_run\":np.random.randint(50000,75000,size=30),\n",
    "    \"buy\":np.random.choice([\"yes\",\"no\"],size=30)\n",
    "}\n",
    "\n",
    "df=pd.DataFrame(data)\n",
    "\n",
    "df['color']=df[\"color\"].map({\"red\":0,\"green\":1,\"blue\":2})\n",
    "df['brand']=df[\"brand\"].map({\"benz\":0,\"ferrari\":1,\"audi\":2,\"bmw\":3,\"porsche\":4})\n",
    "df['buy']=df[\"buy\"].map({\"yes\":1,\"no\":0})\n",
    "\n",
    "x=df[['color','brand','year','seats','kilometers_run']]\n",
    "y=df['buy']\n",
    "\n",
    "\n",
    "clf=DecisionTreeClassifier()\n",
    "clf.fit(x,y)\n",
    "\n",
    "\n",
    "sample=[[0,1,2020,8,70000]]\n",
    "pred=clf.predict(sample)\n",
    "\n",
    "if pred==1:\n",
    "    print(\"yes\")\n",
    "else:\n",
    "    print(\"no\")\n",
    "\n",
    "plt.figure(figsize=(10,10))\n",
    "plot_tree(clf,filled=True,label=\"all\",class_names=['yes','no'],feature_names=x.columns)\n",
    "plt.show()"
   ]
  },
  {
   "cell_type": "code",
   "execution_count": 16,
   "metadata": {},
   "outputs": [],
   "source": [
    "#knn\n",
    "\n",
    "data=pd.read_csv('SampleData.csv')\n",
    "df\n",
    "\n",
    "x=df[[\"color\",\"brand\",\"year\",\"seats\",\"kilometers_run\"]]\n",
    "y=df[\"buy\"]\n",
    "\n",
    "\n",
    "\n",
    "clf=KNeighborsClassifier(n_neighbors=3)\n",
    "clf.fit(x,y)\n",
    "\n",
    "\n",
    "sample=[[1,3,2018,5,54678]]\n",
    "res= clf.predict(sample)\n",
    "print(res)\n",
    "\n",
    "if res==1:\n",
    "    print(\"BUY\")\n",
    "else:\n",
    "    print(\"NOT BUY\")\n",
    "# df"
   ]
  },
  {
   "cell_type": "code",
   "execution_count": 61,
   "metadata": {},
   "outputs": [
    {
     "name": "stdout",
     "output_type": "stream",
     "text": [
      "accuracy of model is:  95.55555555555556 %\n",
      "['virginica']\n"
     ]
    }
   ],
   "source": [
    "#knn iris\n",
    "\n",
    "data=load_iris()\n",
    "\n",
    "x= data.data\n",
    "y=data.target\n",
    "\n",
    "Xtrain,Xtest,Ytrain,Ytest=train_test_split(x,y,test_size=0.3,random_state=5)\n",
    "\n",
    "clf=KNeighborsClassifier(n_neighbors=3)\n",
    "\n",
    "clf.fit(Xtrain,Ytrain)\n",
    "\n",
    "pred= clf.predict(Xtest)\n",
    "\n",
    "print(\"accuracy of model is: \",accuracy_score(pred,Ytest)*100,\"%\")\n",
    "\n",
    "sample=([[2,3,4,6]])\n",
    "pred2=clf.predict(sample)\n",
    "print(data.target_names[pred2])\n",
    "\n",
    "\n"
   ]
  },
  {
   "cell_type": "code",
   "execution_count": 8,
   "metadata": {},
   "outputs": [
    {
     "name": "stdout",
     "output_type": "stream",
     "text": [
      "accuracy:  0.7518796992481203\n"
     ]
    }
   ],
   "source": [
    "#KNN diabetics\n",
    "\n",
    "data=load_diabetes()\n",
    "x=data.data\n",
    "y=data.target\n",
    "\n",
    "Xtrain,Xtest,Ytrain,Ytest=train_test_split(x,y,test_size=0.3,random_state=3)\n",
    "\n",
    "clf=KNeighborsClassifier(n_neighbors=3)\n",
    "clf.fit(Xtrain,Ytrain)\n",
    "\n",
    "pred=clf.predict(Xtest)\n",
    "\n",
    "print(\"accuracy: \",accuracy_score(pred,Ytest)*100)\n",
    "\n",
    "# pred2=clf.predict([[]])"
   ]
  },
  {
   "cell_type": "code",
   "execution_count": 11,
   "metadata": {},
   "outputs": [],
   "source": [
    "#decision tree with manual data\n",
    "\n",
    "np.random.seed(45)\n",
    "data={\"habitat\":np.random.choice([\"Land\",\"sea\",\"water\"],size=25),\n",
    "      \"legs\":np.random.choice([2,4,6],size=25),\n",
    "      \"wings\":np.random.choice([\"yes\",\"No\"],size=25),\n",
    "      \"fur\":np.random.choice([\"yes\",\"No\"],size=25),\n",
    "      \"type\":np.random.choice([\"animal\",\"bird\",\"fish\"],size=25)\n",
    "      }\n",
    "\n",
    "df=  pd.DataFrame(data)\n",
    "\n",
    "\n",
    "df[\"habitat\"]=df[\"habitat\"].map({\"land\":0,\"sea\":1,\"water\":2})\n",
    "df[\"wings\"]=df[\"wings\"].map({\"yes\":1,\"No\":0})\n",
    "df[\"fur\"]=df[\"fur\"].map({\"yes\":1,\"No\":0})\n",
    "\n",
    "x=df[[\"habitat\",\"legs\",\"wings\",\"fur\"]]\n",
    "y=df[\"type\"]\n",
    "\n",
    "clf=DecisionTreeClassifier()\n",
    "clf.fit(x,y)"
   ]
  },
  {
   "cell_type": "code",
   "execution_count": 13,
   "metadata": {},
   "outputs": [],
   "source": [
    "#kmeans clustering\n",
    "\n",
    "data=load_iris()\n",
    "\n",
    "x=data.data\n",
    "y=data.target\n",
    "\n",
    "reg=KMeans(n_clusters=3,random_state=1)\n",
    "reg.fit(x)\n",
    "\n",
    "\n",
    "centers=reg.cluster_centers_\n",
    "labels=reg.labels_\n",
    "\n",
    "plt.scatter(x[:,0],x[:,1],c=labels,cmap='viridis')\n",
    "plt.scatter(centers[:,0],centers[:,1],s=1000,marker='o',c='r',alpha=0.25)\n",
    "\n"
   ]
  }
 ],
 "metadata": {
  "kernelspec": {
   "display_name": "Python 3",
   "language": "python",
   "name": "python3"
  },
  "language_info": {
   "codemirror_mode": {
    "name": "ipython",
    "version": 3
   },
   "file_extension": ".py",
   "mimetype": "text/x-python",
   "name": "python",
   "nbconvert_exporter": "python",
   "pygments_lexer": "ipython3",
   "version": "3.7.9"
  }
 },
 "nbformat": 4,
 "nbformat_minor": 2
}
