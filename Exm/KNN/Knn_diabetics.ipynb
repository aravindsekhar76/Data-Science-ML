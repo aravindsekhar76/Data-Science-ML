{
 "cells": [
  {
   "cell_type": "code",
   "execution_count": 1,
   "metadata": {},
   "outputs": [],
   "source": [
    "import pandas as pd\n",
    "import numpy as np\n",
    "from sklearn.neighbors import KNeighborsClassifier\n",
    "from sklearn.model_selection import train_test_split\n",
    "from sklearn.metrics import accuracy_score\n"
   ]
  },
  {
   "cell_type": "code",
   "execution_count": 61,
   "metadata": {},
   "outputs": [],
   "source": [
    "data = pd.read_csv('diabetes.csv')\n",
    "\n",
    "\n",
    "X= data.iloc[:,[0,1,2,3,4,5,6,7]]\n",
    "Y= data.iloc[:,[8]]\n",
    "y=Y.values.reshape(-1)\n",
    "\n",
    "\n",
    "Xtrain,Xtest,Ytrain,Ytest=train_test_split(X,y,test_size=0.2,random_state=1)\n",
    "\n",
    "classifier=KNeighborsClassifier(n_neighbors=3)\n",
    "classifier.fit(Xtrain,Ytrain)\n",
    "\n",
    "pred= classifier.predict(Xtest)\n",
    "print(\"ACCURACY OF MODEL IS : \",accuracy_score(pred,Ytest)*100,\" %\")\n",
    "\n",
    "a=int(input(\"Enter Pregnancies: \"))\n",
    "b=int(input(\"Enter Glucose: \"))\n",
    "c=int(input(\"Enter BloodPressure: \"))\n",
    "d=int(input(\"Enter SkinThickness: \"))   \n",
    "e=int(input(\"Enter Insulin: \"))\n",
    "f=int(input(\"Enter BMI: \"))\n",
    "g=int(input(\"Enter DiabetesPedigreeFunction: \"))\n",
    "h=int(input(\"Enter Age: \"))\n",
    "samp=[[a,b,c,d,e,f,g,h]]\n",
    "# diabetes_status = lambda x: print(\"Diabetic\") if x == 1 else print(\"Not Diabetic\")\n",
    "# diabetes_status(classifier.predict(samp))\n",
    "pred1=classifier.predict(samp)\n",
    "if pred1==1:\n",
    "    print(\"DIABETES POSITIVE\")\n",
    "else:\n",
    "    print(\"DIABETES NEGATIVE\")"
   ]
  },
  {
   "cell_type": "code",
   "execution_count": 7,
   "metadata": {},
   "outputs": [
    {
     "name": "stdout",
     "output_type": "stream",
     "text": [
      "['B+']\n"
     ]
    }
   ],
   "source": [
    "#knn using marks (SampleData.csv)\n",
    "\n",
    "data = pd.read_csv(\"SampleData.csv\")\n",
    "# print(data)\n",
    "\n",
    "x_values = data.iloc[:,[0,1]]\n",
    "y = data.iloc[:,[2]]\n",
    "y_values = y.values.reshape(-1,)\n",
    "clf = KNeighborsClassifier(n_neighbors = 3)\n",
    "clf.fit(x_values.values,y_values)\n",
    "\n",
    "x = int(input(\"Enter C1 : \"))\n",
    "y = int(input(\"Enter C2 : \"))\n",
    "Prediction = clf.predict([[x,y]])\n",
    "print(Prediction)"
   ]
  }
 ],
 "metadata": {
  "kernelspec": {
   "display_name": "Python 3",
   "language": "python",
   "name": "python3"
  },
  "language_info": {
   "codemirror_mode": {
    "name": "ipython",
    "version": 3
   },
   "file_extension": ".py",
   "mimetype": "text/x-python",
   "name": "python",
   "nbconvert_exporter": "python",
   "pygments_lexer": "ipython3",
   "version": "3.7.9"
  }
 },
 "nbformat": 4,
 "nbformat_minor": 2
}
