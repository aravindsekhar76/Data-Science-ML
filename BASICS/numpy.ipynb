{
  "cells": [
    {
      "cell_type": "code",
      "execution_count": 2,
      "metadata": {
        "trusted": true
      },
      "outputs": [],
      "source": [
        "import numpy as np"
      ]
    },
    {
      "cell_type": "code",
      "execution_count": 19,
      "metadata": {
        "trusted": true
      },
      "outputs": [
        {
          "name": "stdout",
          "output_type": "stream",
          "text": [
            "[ True  True  True  True False]\n",
            "[ True  True  True  True  True]\n",
            "[ True  True  True  True False]\n",
            "[ True  True  True  True  True]\n",
            "[False False False False  True]\n"
          ]
        }
      ],
      "source": [
        "#Q1\n",
        "a=np.array([1,2,3,4,5])\n",
        "b= np.array([6,7,8,9,5])\n",
        "\n",
        "print(np.greater(b,a))\n",
        "print(np.greater_equal(b,a))\n",
        "print(np.less(a,b))\n",
        "print(np.less_equal(a,b))\n",
        "print(np.equal(a,b))"
      ]
    },
    {
      "cell_type": "code",
      "execution_count": 24,
      "metadata": {
        "trusted": true
      },
      "outputs": [
        {
          "name": "stdout",
          "output_type": "stream",
          "text": [
            "[30 32 34 36 38 40 42 44 46 48 50 52 54 56 58 60 62 64 66 68 70]\n"
          ]
        }
      ],
      "source": [
        "#Q2\n",
        "\n",
        "a= np.arange(30,71,2)\n",
        "print(a)"
      ]
    },
    {
      "cell_type": "code",
      "execution_count": 26,
      "metadata": {
        "trusted": true
      },
      "outputs": [
        {
          "name": "stdout",
          "output_type": "stream",
          "text": [
            "identity matrix\n",
            "[[1 0 0 0 0]\n",
            " [0 1 0 0 0]\n",
            " [0 0 1 0 0]\n",
            " [0 0 0 1 0]\n",
            " [0 0 0 0 1]]\n"
          ]
        }
      ],
      "source": [
        "print(\"identity matrix\")\n",
        "x=np.identity(5,dtype=int)\n",
        "print(x)"
      ]
    },
    {
      "cell_type": "code",
      "execution_count": 28,
      "metadata": {
        "trusted": true
      },
      "outputs": [
        {
          "name": "stdout",
          "output_type": "stream",
          "text": [
            "[  0   1   2   3   4   5   6   7   8  -9 -10 -11 -12 -13 -14  15  16  17\n",
            "  18  19  20]\n"
          ]
        }
      ],
      "source": [
        "x= np.arange(0,21)\n",
        "a=np.array(x)\n",
        "a[9:15]*= -1\n",
        "print(a)"
      ]
    },
    {
      "cell_type": "code",
      "execution_count": 30,
      "metadata": {
        "trusted": true
      },
      "outputs": [
        {
          "name": "stdout",
          "output_type": "stream",
          "text": [
            "[[1 0 0 0 0]\n",
            " [0 2 0 0 0]\n",
            " [0 0 3 0 0]\n",
            " [0 0 0 4 0]\n",
            " [0 0 0 0 5]]\n"
          ]
        }
      ],
      "source": [
        "a=np.zeros([5,5],dtype=int)\n",
        "np.fill_diagonal(a,[1,2,3,4,5])\n",
        "print(a)"
      ]
    },
    {
      "cell_type": "code",
      "execution_count": 46,
      "metadata": {
        "trusted": true
      },
      "outputs": [
        {
          "name": "stdout",
          "output_type": "stream",
          "text": [
            "the array is\n",
            " [[ 1  2  3  4  5]\n",
            " [10 20 30 40 50]]\n",
            "total sum 210\n",
            "Sum of Columns: 210\n",
            "Sum of Rows: 210\n"
          ]
        }
      ],
      "source": [
        "a=np.array([[1,2,3,4,5],[10,20,30,40,50]])\n",
        "print(\"the array is\\n\",a)\n",
        "print(\"total sum\",np.sum(x))\n",
        "column_sums = np.sum(x, axis=0)\n",
        "print(\"Sum of Columns:\", column_sums)\n",
        "row_sums = np.sum(x, axis=0)\n",
        "print(\"Sum of Rows:\", row_sums)"
      ]
    },
    {
      "cell_type": "code",
      "execution_count": 54,
      "metadata": {
        "trusted": true
      },
      "outputs": [
        {
          "name": "stdout",
          "output_type": "stream",
          "text": [
            "[1 2 3 4 5]\n",
            "[1. 2. 3. 4. 5.]\n"
          ]
        }
      ],
      "source": [
        "a= np.array([1,2,3,4,5])\n",
        "print(a)\n",
        "np.savetxt(r'C:\\Users\\Aiswarya\\Desktop\\DS LAB\\ex1\\array.txt',a)\n",
        "b=np.loadtxt(r'C:\\Users\\Aiswarya\\Desktop\\DS LAB\\ex1\\array.txt')\n",
        "print(b)"
      ]
    },
    {
      "cell_type": "code",
      "execution_count": 57,
      "metadata": {
        "trusted": true
      },
      "outputs": [
        {
          "name": "stdout",
          "output_type": "stream",
          "text": [
            "elements are not equal\n"
          ]
        }
      ],
      "source": [
        "a=np.array([2,4,6,8,10])\n",
        "b=np.array([1,3,5,7,9])\n",
        "isequal=np.equal(a,b)\n",
        "\n",
        "if isequal.any():\n",
        "    print(\"elements are equal\")\n",
        "else:\n",
        "    print(\"elements are not equal\")\n"
      ]
    },
    {
      "cell_type": "code",
      "execution_count": 65,
      "metadata": {
        "trusted": true
      },
      "outputs": [
        {
          "name": "stdout",
          "output_type": "stream",
          "text": [
            "[[ 6  3 14  2 23]\n",
            " [25  7 15 29  5]\n",
            " [10  5  2 14  6]\n",
            " [ 0 10 29 15 27]\n",
            " [25  9  8 11 21]]\n",
            "\n",
            "\n",
            "\n",
            "[[25  9  8 11 21]\n",
            " [25  7 15 29  5]\n",
            " [10  5  2 14  6]\n",
            " [ 0 10 29 15 27]\n",
            " [ 6  3 14  2 23]]\n"
          ]
        }
      ],
      "source": [
        "a=np.random.randint(30,size=(5,5))\n",
        "print(a)\n",
        "print(\"\\n\\n\")\n",
        "a[[0,4]]=a[[4,0]]\n",
        "print(a)"
      ]
    },
    {
      "cell_type": "code",
      "execution_count": 68,
      "metadata": {
        "trusted": true
      },
      "outputs": [
        {
          "name": "stdout",
          "output_type": "stream",
          "text": [
            "first array:\n",
            " [1 2 3 4 5]\n",
            "second array: \n",
            " [1 2 3 4 5]\n",
            "product:\n",
            " [ 1  4  9 16 25]\n"
          ]
        }
      ],
      "source": [
        "a=np.array([1,2,3,4,5])\n",
        "b=np.array([1,2,3,4,5])\n",
        "c=np.multiply(a,b)\n",
        "print(\"first array:\\n\",a)\n",
        "print(\"second array: \\n\",b)\n",
        "print(\"product:\\n\",c)"
      ]
    },
    {
      "cell_type": "code",
      "execution_count": 3,
      "metadata": {},
      "outputs": [
        {
          "name": "stdout",
          "output_type": "stream",
          "text": [
            "[[1. 0. 0.]\n",
            " [0. 1. 0.]\n",
            " [0. 0. 1.]]\n"
          ]
        }
      ],
      "source": [
        "identity_matrix = np.identity(3)\n",
        "print(identity_matrix)"
      ]
    },
    {
      "cell_type": "code",
      "execution_count": 5,
      "metadata": {},
      "outputs": [
        {
          "name": "stdout",
          "output_type": "stream",
          "text": [
            "[  0   1   2   3   4   5   6   7   8   9 -10 -11 -12 -13 -14 -15 -16 -17\n",
            " -18 -19 -20  21  22  23  24  25  26  27  28  29  30]\n"
          ]
        }
      ],
      "source": [
        "a2 = np.arange(0,31,1)\n",
        "a2[(a2>=10) & (a2<=20)] *= -1\n",
        "print(a2)"
      ]
    },
    {
      "cell_type": "code",
      "execution_count": null,
      "metadata": {},
      "outputs": [],
      "source": [
        "diagMatrix = np.diag([1,2,3,4,5])\n",
        "print(diagMatrix)"
      ]
    },
    {
      "cell_type": "code",
      "execution_count": 6,
      "metadata": {},
      "outputs": [
        {
          "name": "stdout",
          "output_type": "stream",
          "text": [
            "Before Filling\n",
            " [[0. 0. 0. 0. 0.]\n",
            " [0. 0. 0. 0. 0.]\n",
            " [0. 0. 0. 0. 0.]\n",
            " [0. 0. 0. 0. 0.]\n",
            " [0. 0. 0. 0. 0.]]\n",
            "After Filling\n",
            " [[9. 0. 0. 0. 0.]\n",
            " [0. 9. 0. 0. 0.]\n",
            " [0. 0. 9. 0. 0.]\n",
            " [0. 0. 0. 9. 0.]\n",
            " [0. 0. 0. 0. 9.]]\n"
          ]
        }
      ],
      "source": [
        "diagMatrix2 = np.zeros([5,5])\n",
        "print(\"Before Filling\\n\",diagMatrix2)\n",
        "diagMatrix3 = np.fill_diagonal(diagMatrix2,[9,9,9,9,9])\n",
        "print(\"After Filling\\n\",diagMatrix2)"
      ]
    },
    {
      "cell_type": "code",
      "execution_count": 9,
      "metadata": {},
      "outputs": [
        {
          "name": "stdout",
          "output_type": "stream",
          "text": [
            "[[-1.68884986e+15 -1.68884986e+15  2.25179981e+15]\n",
            " [ 3.37769972e+15  3.37769972e+15 -4.50359963e+15]\n",
            " [-1.68884986e+15 -1.68884986e+15  2.25179981e+15]]\n"
          ]
        }
      ],
      "source": [
        "a4 = np.matrix([[1,2,3],[3,2,1],[3,3,3]])\n",
        "print(np.linalg.inv(a4))\n"
      ]
    },
    {
      "cell_type": "code",
      "execution_count": 11,
      "metadata": {},
      "outputs": [
        {
          "name": "stdout",
          "output_type": "stream",
          "text": [
            "[[1 2 3]\n",
            " [2 3 4]\n",
            " [3 4 5]]\n",
            "[[1 2 3]\n",
            " [2 3 4]\n",
            " [3 4 5]]\n"
          ]
        }
      ],
      "source": [
        "a5 = np.array([[1,2,3],[2,3,4],[3,4,5]])\n",
        "a6 = np.matrix([[1,2,3],[2,3,4],[3,4,5]])\n",
        "print(a5)\n",
        "print(a6)"
      ]
    },
    {
      "cell_type": "code",
      "execution_count": 13,
      "metadata": {},
      "outputs": [
        {
          "name": "stdout",
          "output_type": "stream",
          "text": [
            "27\n",
            "27\n",
            "[[ 2  4  6]\n",
            " [ 4  6  8]\n",
            " [ 6  8 10]]\n",
            "[[0 0 0]\n",
            " [0 0 0]\n",
            " [0 0 0]]\n",
            "[[14 20 26]\n",
            " [20 29 38]\n",
            " [26 38 50]]\n"
          ]
        }
      ],
      "source": [
        "print(np.sum(a5))\n",
        "print(np.sum(a6))\n",
        "print(a5+a6)\n",
        "print(a5-a6)\n",
        "print(a5*a6)"
      ]
    },
    {
      "cell_type": "code",
      "execution_count": 16,
      "metadata": {},
      "outputs": [
        {
          "name": "stdout",
          "output_type": "stream",
          "text": [
            "[[1 2 4]\n",
            " [3 3 4]\n",
            " [6 4 5]]\n",
            "[10  9 13]\n",
            "[ 7 10 15]\n"
          ]
        }
      ],
      "source": [
        "a7 = np.array([[1,2,4],[3,3,4],[6,4,5]])\n",
        "print(a7)\n",
        "print(np.sum(a7,axis=0)) #Column Sum when Axis = 0\n",
        "print(np.sum(a7,axis=1)) #Row Sum when Axis = 1"
      ]
    },
    {
      "cell_type": "code",
      "execution_count": 18,
      "metadata": {},
      "outputs": [
        {
          "name": "stdout",
          "output_type": "stream",
          "text": [
            "[[1 2 4]\n",
            " [3 3 4]\n",
            " [6 4 5]]\n"
          ]
        }
      ],
      "source": [
        "np.savetxt(\"SampleArray1.txt\",a7,fmt=\"%d\")\n",
        "load = np.loadtxt('SampleArray1.txt',dtype=int)\n",
        "print(load)"
      ]
    },
    {
      "cell_type": "code",
      "execution_count": 21,
      "metadata": {},
      "outputs": [
        {
          "name": "stdout",
          "output_type": "stream",
          "text": [
            "[[5 2 1 4]\n",
            " [1 9 0 6]\n",
            " [2 7 9 8]\n",
            " [2 3 4 6]]\n",
            "[[2 3 4 6]\n",
            " [1 9 0 6]\n",
            " [2 7 9 8]\n",
            " [5 2 1 4]]\n"
          ]
        }
      ],
      "source": [
        "a8 = np.random.randint(0,10,size=(4,4))\n",
        "print(a8)\n",
        "a9 = a8\n",
        "a10 = a8\n",
        "a9[[0,-1],:] = a8[[-1,0],:]\n",
        "# a10[:,[0,-1]] = a8[:,[-1,0]]\n",
        "print(a9)\n",
        "# print(a10)"
      ]
    },
    {
      "cell_type": "code",
      "execution_count": 22,
      "metadata": {},
      "outputs": [
        {
          "name": "stdout",
          "output_type": "stream",
          "text": [
            "[[ 4  9 16 36]\n",
            " [ 1 81  0 36]\n",
            " [ 4 49 81 64]\n",
            " [25  4  1 16]]\n"
          ]
        }
      ],
      "source": [
        "print(np.multiply(a9,a8))"
      ]
    }
  ],
  "metadata": {
    "kernelspec": {
      "display_name": "Python 3",
      "language": "python",
      "name": "python3"
    },
    "language_info": {
      "codemirror_mode": {
        "name": "ipython",
        "version": 3
      },
      "file_extension": ".py",
      "mimetype": "text/x-python",
      "name": "python",
      "nbconvert_exporter": "python",
      "pygments_lexer": "ipython3",
      "version": "3.7.9"
    }
  },
  "nbformat": 4,
  "nbformat_minor": 4
}
