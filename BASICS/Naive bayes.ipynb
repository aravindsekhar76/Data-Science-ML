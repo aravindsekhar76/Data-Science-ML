{
 "cells": [
  {
   "cell_type": "code",
   "execution_count": 7,
   "metadata": {},
   "outputs": [],
   "source": [
    "import pandas as pd\n",
    "from sklearn.naive_bayes import GaussianNB\n",
    "from sklearn.model_selection import train_test_split\n",
    "from sklearn.metrics import accuracy_score\n",
    "from sklearn.datasets import load_iris"
   ]
  },
  {
   "cell_type": "code",
   "execution_count": 12,
   "metadata": {},
   "outputs": [],
   "source": [
    "iris= load_iris()\n",
    "\n",
    "x=iris.data\n",
    "y=iris.target\n",
    "XTrain,XTest,YTrain,YTest = train_test_split(x,y,test_size=0.3,random_state=1)"
   ]
  },
  {
   "cell_type": "code",
   "execution_count": 19,
   "metadata": {},
   "outputs": [
    {
     "name": "stdout",
     "output_type": "stream",
     "text": [
      "accuracy 0.9333333333333333\n",
      "Type of this Iris Flower :  ['virginica']\n"
     ]
    }
   ],
   "source": [
    "cls=GaussianNB()\n",
    "cls.fit(XTrain,YTrain)\n",
    "\n",
    "\n",
    "pred=cls.predict(XTest)\n",
    "acc=accuracy_score(pred,YTest)\n",
    "print(\"accuracy\",acc)\n",
    "\n",
    "\n",
    "sl = float(input(\"Enter Sepal Length (cm) : \"))\n",
    "sw = float(input(\"Enter Sepal Width (cm) : \"))\n",
    "pl = float(input(\"Enter Petal Length (cm) : \"))\n",
    "pw = float(input(\"Enter Petal Width (cm) : \"))\n",
    "Prediction = cls.predict([[sl,sw,pl,pw]])\n",
    "print(\"Type of this Iris Flower : \",iris.target_names[Prediction])"
   ]
  },
  {
   "cell_type": "code",
   "execution_count": null,
   "metadata": {},
   "outputs": [],
   "source": [
    "# import pandas as pd\n",
    "# from sklearn.naive_bayes import GaussianNB\n",
    "# from sklearn.model_selection import train_test_split\n",
    "# from sklearn.metrics import accuracy_score\n",
    "\n",
    "# # Read data from CSV file into a DataFrame\n",
    "# df = pd.read_csv('iris_data.csv')\n",
    "\n",
    "# # Display the first few rows of the DataFrame\n",
    "# print(df.head())\n",
    "\n",
    "# # Separate features (X) and target variable (Y)\n",
    "# X = df.drop('target', axis=1)\n",
    "# Y = df['target']\n",
    "\n",
    "# # Split the data into training and testing sets\n",
    "# XTrain, XTest, YTrain, YTest = train_test_split(X, Y, test_size=0.3, random_state=1)\n",
    "\n",
    "# # Create and train the Gaussian Naive Bayes model\n",
    "# NB = GaussianNB()\n",
    "# NB.fit(XTrain, YTrain)\n",
    "\n",
    "# # Make predictions on the test set\n",
    "# pred = NB.predict(XTest)\n",
    "\n",
    "# # Evaluate the model\n",
    "# accuracy = accuracy_score(pred, YTest) * 100\n",
    "# print(\"Accuracy : \", accuracy)\n",
    "\n",
    "# # Take user input for prediction\n",
    "# sl = float(input(\"Enter Sepal Length (cm) : \"))\n",
    "# sw = float(input(\"Enter Sepal Width (cm) : \"))\n",
    "# pl = float(input(\"Enter Petal Length (cm) : \"))\n",
    "# pw = float(input(\"Enter Petal Width (cm) : \"))\n",
    "# user_input = pd.DataFrame([[sl, sw, pl, pw]], columns=['sepal_length', 'sepal_width', 'petal_length', 'petal_width'])\n",
    "# prediction = NB.predict(user_input)\n",
    "# print(\"Type of this Iris Flower : \", prediction)\n"
   ]
  }
 ],
 "metadata": {
  "kernelspec": {
   "display_name": "Python 3",
   "language": "python",
   "name": "python3"
  },
  "language_info": {
   "codemirror_mode": {
    "name": "ipython",
    "version": 3
   },
   "file_extension": ".py",
   "mimetype": "text/x-python",
   "name": "python",
   "nbconvert_exporter": "python",
   "pygments_lexer": "ipython3",
   "version": "3.7.9"
  }
 },
 "nbformat": 4,
 "nbformat_minor": 2
}
