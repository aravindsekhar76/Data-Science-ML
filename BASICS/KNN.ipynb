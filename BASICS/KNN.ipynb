{
 "cells": [
  {
   "cell_type": "code",
   "execution_count": 2,
   "metadata": {},
   "outputs": [],
   "source": [
    "import pandas as pd\n",
    "import numpy as np\n",
    "import matplotlib.pyplot as plt\n",
    "from sklearn.neighbors import KNeighborsClassifier\n",
    "from sklearn.metrics import accuracy_score\n",
    "from sklearn.model_selection import train_test_split"
   ]
  },
  {
   "cell_type": "code",
   "execution_count": 4,
   "metadata": {},
   "outputs": [
    {
     "name": "stdout",
     "output_type": "stream",
     "text": [
      "['B+']\n"
     ]
    },
    {
     "name": "stderr",
     "output_type": "stream",
     "text": [
      "C:\\Users\\Aiswarya\\AppData\\Local\\Packages\\PythonSoftwareFoundation.Python.3.7_qbz5n2kfra8p0\\LocalCache\\local-packages\\Python37\\site-packages\\sklearn\\base.py:451: UserWarning: X does not have valid feature names, but KNeighborsClassifier was fitted with feature names\n",
      "  \"X does not have valid feature names, but\"\n"
     ]
    }
   ],
   "source": [
    "# data = pd.read_csv('SampleData.csv')\n",
    "# x = data.iloc[:,[0,1]]\n",
    "# y = data.iloc[:,[2]]\n",
    "# y_val = y.values.reshape(-1,)\n",
    "# knn = KNeighborsClassifier(n_neighbors=3)\n",
    "# knn.fit(x.values,y_val)\n",
    "data = {\n",
    "    'C1': [95, 93, 82, 75, 78, 80, 83],\n",
    "    'C2': [96, 92, 89, 78, 79, 89, 86],\n",
    "    'C3': ['A+', 'A+', 'A', 'B+', 'B+', 'A', 'A']\n",
    "}\n",
    "\n",
    "df = pd.DataFrame(data)\n",
    "x=df[['C1','C2']]\n",
    "y=df['C3']\n",
    "\n",
    "clf=KNeighborsClassifier(n_neighbors=3)\n",
    "clf.fit(x,y)\n",
    "\n",
    "pred=clf.predict(([[67,70]]))\n",
    "print(pred)"
   ]
  },
  {
   "cell_type": "code",
   "execution_count": 13,
   "metadata": {},
   "outputs": [
    {
     "name": "stdout",
     "output_type": "stream",
     "text": [
      "['sepal length (cm)', 'sepal width (cm)', 'petal length (cm)', 'petal width (cm)']\n",
      "['setosa' 'versicolor' 'virginica']\n",
      "Accuracy :  97.77777777777777\n",
      "Type of this Iris Flower :  ['virginica']\n"
     ]
    }
   ],
   "source": [
    "#KNN IRIS\n",
    "import numpy as np\n",
    "import pandas as pd\n",
    "\n",
    "from sklearn.datasets import load_iris\n",
    "from sklearn.neighbors import KNeighborsClassifier\n",
    "from sklearn.model_selection import train_test_split\n",
    "from sklearn.metrics import accuracy_score\n",
    "i_data = load_iris()\n",
    "print(i_data.feature_names)\n",
    "print(i_data.target_names)\n",
    "X = i_data.data\n",
    "Y = i_data.target\n",
    "XTrain,XTest,YTrain,YTest = train_test_split(X,Y,test_size=0.3,random_state=1)\n",
    "KNN = KNeighborsClassifier(n_neighbors=3)\n",
    "KNN.fit(XTrain,YTrain)\n",
    "KNeighborsClassifier(n_neighbors=3)\n",
    "pred = KNN.predict(XTest)\n",
    "print(\"Accuracy : \",accuracy_score(pred,YTest)*100)\n",
    "sl = float(input(\"Enter Sepal Length (cm) : \"))\n",
    "sw = float(input(\"Enter Sepal Width (cm) : \"))\n",
    "pl = float(input(\"Enter Petal Length (cm) : \"))\n",
    "pw = float(input(\"Enter Petal Width (cm) : \"))\n",
    "Prediction = KNN.predict([[sl,sw,pl,pw]])\n",
    "print(\"Type of this Iris Flower : \",i_data.target_names[Prediction])\n"
   ]
  }
 ],
 "metadata": {
  "kernelspec": {
   "display_name": "Python 3",
   "language": "python",
   "name": "python3"
  },
  "language_info": {
   "codemirror_mode": {
    "name": "ipython",
    "version": 3
   },
   "file_extension": ".py",
   "mimetype": "text/x-python",
   "name": "python",
   "nbconvert_exporter": "python",
   "pygments_lexer": "ipython3",
   "version": "3.7.9"
  }
 },
 "nbformat": 4,
 "nbformat_minor": 2
}
